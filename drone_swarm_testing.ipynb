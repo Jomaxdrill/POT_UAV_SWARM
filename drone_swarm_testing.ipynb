{
 "cells": [
  {
   "cell_type": "code",
   "execution_count": 1,
   "metadata": {},
   "outputs": [],
   "source": [
    "from itertools import combinations\n",
    "from utilities import get_vector,distance\n",
    "from hybrid import hybrid_algorithm\n",
    "import numpy as np\n",
    "import math"
   ]
  },
  {
   "cell_type": "code",
   "execution_count": 5,
   "metadata": {},
   "outputs": [
    {
     "name": "stdout",
     "output_type": "stream",
     "text": [
      "norm of vector is 5952492.47513781\n",
      "[ 0 -1]\n"
     ]
    }
   ],
   "source": [
    "vector_velocity = np.array([4652321.28717414, 3713229.49835835])\n",
    "print(f'norm of vector is {np.linalg.norm(vector_velocity)}')\n",
    "rotation_max = [[0, -1],[1, 0]]\n",
    "vector = np.array([1,0])\n",
    "print(vector @ rotation_max)"
   ]
  }
 ],
 "metadata": {
  "kernelspec": {
   "display_name": "venv",
   "language": "python",
   "name": "venv"
  },
  "language_info": {
   "codemirror_mode": {
    "name": "ipython",
    "version": 3
   },
   "file_extension": ".py",
   "mimetype": "text/x-python",
   "name": "python",
   "nbconvert_exporter": "python",
   "pygments_lexer": "ipython3",
   "version": "3.11.9"
  }
 },
 "nbformat": 4,
 "nbformat_minor": 2
}
